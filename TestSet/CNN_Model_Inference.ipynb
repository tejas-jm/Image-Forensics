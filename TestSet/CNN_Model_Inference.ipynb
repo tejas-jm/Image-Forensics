{
 "cells": [
  {
   "cell_type": "code",
   "execution_count": 1,
   "id": "67c046d6",
   "metadata": {},
   "outputs": [],
   "source": [
    "from PIL import Image\n",
    "import numpy as np\n",
    "import tensorflow as tf\n",
    "from prediction import predict_class\n",
    "import matplotlib.pyplot as plt\n",
    "import os"
   ]
  },
  {
   "cell_type": "code",
   "execution_count": 2,
   "id": "1615197f",
   "metadata": {},
   "outputs": [],
   "source": [
    "# Function to preprocess the input image\n",
    "def preprocess_image(image_path):\n",
    "    image = Image.open(image_path).convert('L')  # Convert to grayscale\n",
    "    image = image.resize((28, 28))\n",
    "    image = np.array(image)\n",
    "    image = np.expand_dims(image, axis=0)  # Add a batch dimension\n",
    "    image = image.astype('float32')\n",
    "    image /= 255.0\n",
    "    return image"
   ]
  },
  {
   "cell_type": "code",
   "execution_count": 3,
   "id": "805bfe34",
   "metadata": {},
   "outputs": [],
   "source": [
    "# Function to predict real or fake\n",
    "def predict_real_or_fake(image_path):\n",
    "    image = preprocess_image(image_path)\n",
    "    prediction = predict_class(image_path)\n",
    "    if prediction >= 0.5:\n",
    "        result = \"Real\"\n",
    "    else:\n",
    "        result = \"Fake\"\n",
    "    return result"
   ]
  },
  {
   "cell_type": "code",
   "execution_count": 4,
   "id": "ba7e6355",
   "metadata": {},
   "outputs": [],
   "source": [
    "# Function to display the image and result\n",
    "def display_image_with_result(image_path):\n",
    "    image = Image.open(image_path)\n",
    "    result = predict_real_or_fake(image_path)\n",
    "    plt.imshow(image, cmap='gray')\n",
    "    plt.title(f\"Prediction: {result}\")\n",
    "    plt.axis('off')\n",
    "    plt.show()"
   ]
  },
  {
   "cell_type": "code",
   "execution_count": 5,
   "id": "800b52b5",
   "metadata": {},
   "outputs": [
    {
     "name": "stderr",
     "output_type": "stream",
     "text": [
      "WARNING:absl:At this time, the v2.11+ optimizer `tf.keras.optimizers.Adam` runs slowly on M1/M2 Macs, please use the legacy Keras optimizer instead, located at `tf.keras.optimizers.legacy.Adam`.\n",
      "WARNING:absl:There is a known slowdown when using v2.11+ Keras optimizers on M1/M2 Macs. Falling back to the legacy Keras optimizer, i.e., `tf.keras.optimizers.legacy.Adam`.\n"
     ]
    },
    {
     "name": "stdout",
     "output_type": "stream",
     "text": [
      "WARNING:tensorflow:Error in loading the saved optimizer state. As a result, your model is starting with a freshly initialized optimizer.\n"
     ]
    },
    {
     "name": "stderr",
     "output_type": "stream",
     "text": [
      "WARNING:tensorflow:Error in loading the saved optimizer state. As a result, your model is starting with a freshly initialized optimizer.\n"
     ]
    },
    {
     "data": {
      "image/png": "[encoded data removed]",
      "text/plain": [
       "<Figure size 640x480 with 1 Axes>"
      ]
     },
     "metadata": {},
     "output_type": "display_data"
    }
   ],
   "source": [
    "# Load the trained CNN model from the h5 file\n",
    "model = tf.keras.models.load_model('Trained_Cnn_Model_4.h5')\n",
    "\n",
    "# Example usage\n",
    "image_path = 'fake_image_46.png'\n",
    "\n",
    "display_image_with_result(image_path)"
   ]
  }
 ],
 "metadata": {
  "kernelspec": {
   "display_name": "Python 3 (ipykernel)",
   "language": "python",
   "name": "python3"
  },
  "language_info": {
   "codemirror_mode": {
    "name": "ipython",
    "version": 3
   },
   "file_extension": ".py",
   "mimetype": "text/x-python",
   "name": "python",
   "nbconvert_exporter": "python",
   "pygments_lexer": "ipython3",
   "version": "3.11.3"
  }
 },
 "nbformat": 4,
 "nbformat_minor": 5
}
