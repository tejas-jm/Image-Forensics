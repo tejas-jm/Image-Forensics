{
 "cells": [
  {
   "cell_type": "code",
   "execution_count": 23,
   "id": "cc2b0ca5",
   "metadata": {},
   "outputs": [
    {
     "name": "stderr",
     "output_type": "stream",
     "text": [
      "WARNING:absl:At this time, the v2.11+ optimizer `tf.keras.optimizers.RMSprop` runs slowly on M1/M2 Macs, please use the legacy Keras optimizer instead, located at `tf.keras.optimizers.legacy.RMSprop`.\n",
      "WARNING:absl:There is a known slowdown when using v2.11+ Keras optimizers on M1/M2 Macs. Falling back to the legacy Keras optimizer, i.e., `tf.keras.optimizers.legacy.RMSprop`.\n"
     ]
    },
    {
     "name": "stdout",
     "output_type": "stream",
     "text": [
      "WARNING:tensorflow:Error in loading the saved optimizer state. As a result, your model is starting with a freshly initialized optimizer.\n"
     ]
    },
    {
     "name": "stderr",
     "output_type": "stream",
     "text": [
      "WARNING:tensorflow:Error in loading the saved optimizer state. As a result, your model is starting with a freshly initialized optimizer.\n"
     ]
    },
    {
     "name": "stdout",
     "output_type": "stream",
     "text": [
      "1875/1875 [==============================] - 5s 2ms/step\n"
     ]
    }
   ],
   "source": [
    "#Fake image generator as npy File\n",
    "\n",
    "import numpy as np\n",
    "from tensorflow.keras.models import load_model\n",
    "\n",
    "# Load the generator model\n",
    "generator = load_model('Generator_Model_2.h5')\n",
    "\n",
    "# Number of fake images you want to generate\n",
    "num_fake_images = 60000  # Adjust this based on how many fake images you want to generate\n",
    "\n",
    "# Generate random noise as input for the generator\n",
    "latent_dim = 100  # Make sure this matches the value you used during training\n",
    "random_noise = np.random.normal(0, 1, size=(num_fake_images, latent_dim))\n",
    "\n",
    "# Generate fake images\n",
    "fake_images = generator.predict(random_noise)\n",
    "\n",
    "# Ensure the shape of fake_images is (num_fake_images, 28, 28, 1)\n",
    "fake_images = fake_images.reshape((num_fake_images, 28, 28, 1))\n",
    "\n",
    "# Save the fake images as an npy file\n",
    "np.save('Fake_Images.npy', fake_images)\n"
   ]
  },
  {
   "cell_type": "code",
   "execution_count": 2,
   "id": "e291092b",
   "metadata": {},
   "outputs": [
    {
     "name": "stderr",
     "output_type": "stream",
     "text": [
      "WARNING:absl:At this time, the v2.11+ optimizer `tf.keras.optimizers.RMSprop` runs slowly on M1/M2 Macs, please use the legacy Keras optimizer instead, located at `tf.keras.optimizers.legacy.RMSprop`.\n",
      "WARNING:absl:There is a known slowdown when using v2.11+ Keras optimizers on M1/M2 Macs. Falling back to the legacy Keras optimizer, i.e., `tf.keras.optimizers.legacy.RMSprop`.\n"
     ]
    },
    {
     "name": "stdout",
     "output_type": "stream",
     "text": [
      "WARNING:tensorflow:Error in loading the saved optimizer state. As a result, your model is starting with a freshly initialized optimizer.\n"
     ]
    },
    {
     "name": "stderr",
     "output_type": "stream",
     "text": [
      "WARNING:tensorflow:Error in loading the saved optimizer state. As a result, your model is starting with a freshly initialized optimizer.\n"
     ]
    },
    {
     "name": "stdout",
     "output_type": "stream",
     "text": [
      "2/2 [==============================] - 0s 3ms/step\n"
     ]
    }
   ],
   "source": [
    "#Fake image generator as PNG Files\n",
    "\n",
    "\n",
    "import numpy as np\n",
    "from tensorflow.keras.models import load_model\n",
    "from tensorflow.keras.preprocessing import image\n",
    "\n",
    "# Load the generator model\n",
    "generator = load_model('Generator_Model_2.h5')\n",
    "\n",
    "# Number of fake images you want to generate\n",
    "num_fake_images = 50  # Adjust this based on how many fake images you want to generate\n",
    "\n",
    "# Generate random noise as input for the generator\n",
    "latent_dim = 100  # Make sure this matches the value you used during training\n",
    "random_noise = np.random.normal(0, 1, size=(num_fake_images, latent_dim))\n",
    "\n",
    "# Generate fake images\n",
    "fake_images = generator.predict(random_noise)\n",
    "\n",
    "# Scale the pixel values to the range [0, 255]\n",
    "fake_images = (fake_images * 127.5) + 127.5\n",
    "\n",
    "# Save the fake images as files on your local machine\n",
    "for i in range(num_fake_images):\n",
    "    # Create an image object from the numpy array\n",
    "    img = image.array_to_img(fake_images[i])\n",
    "\n",
    "    # Save the image with a unique filename\n",
    "    img.save(f'fake_image_{i}.png')\n"
   ]
  },
  {
   "cell_type": "code",
   "execution_count": 24,
   "id": "4265d939",
   "metadata": {},
   "outputs": [
    {
     "name": "stdout",
     "output_type": "stream",
     "text": [
      "Training images saved to: fashion_mnist_images/train\n",
      "Test images saved to: fashion_mnist_images/test\n"
     ]
    }
   ],
   "source": [
    "#Fashion MNIST Dataset\n",
    "import os\n",
    "import numpy as np\n",
    "from tensorflow.keras.datasets import fashion_mnist\n",
    "import cv2\n",
    "\n",
    "# Load the Fashion MNIST dataset\n",
    "(train_images, train_labels), (test_images, test_labels) = fashion_mnist.load_data()\n",
    "\n",
    "# Create directories to save the images\n",
    "output_train_dir = \"fashion_mnist_images/train\"\n",
    "output_test_dir = \"fashion_mnist_images/test\"\n",
    "os.makedirs(output_train_dir, exist_ok=True)\n",
    "os.makedirs(output_test_dir, exist_ok=True)\n",
    "\n",
    "# Convert and save training images as PNG files\n",
    "for i, image in enumerate(train_images):\n",
    "    image_path = os.path.join(output_train_dir, f\"train_image_{i}.png\")\n",
    "    cv2.imwrite(image_path, image)\n",
    "\n",
    "print(\"Training images saved to:\", output_train_dir)\n",
    "\n",
    "# Convert and save test images as PNG files\n",
    "for i, image in enumerate(test_images):\n",
    "    image_path = os.path.join(output_test_dir, f\"test_image_{i}.png\")\n",
    "    cv2.imwrite(image_path, image)\n",
    "\n",
    "print(\"Test images saved to:\", output_test_dir)\n"
   ]
  },
  {
   "cell_type": "code",
   "execution_count": null,
   "id": "f4e48c20",
   "metadata": {},
   "outputs": [],
   "source": []
  }
 ],
 "metadata": {
  "kernelspec": {
   "display_name": "Python 3 (ipykernel)",
   "language": "python",
   "name": "python3"
  },
  "language_info": {
   "codemirror_mode": {
    "name": "ipython",
    "version": 3
   },
   "file_extension": ".py",
   "mimetype": "text/x-python",
   "name": "python",
   "nbconvert_exporter": "python",
   "pygments_lexer": "ipython3",
   "version": "3.11.3"
  }
 },
 "nbformat": 4,
 "nbformat_minor": 5
}
